{
 "cells": [
  {
   "cell_type": "code",
   "execution_count": 282,
   "metadata": {},
   "outputs": [],
   "source": [
    "import os\n",
    "import json\n",
    "import glob\n",
    "from zep_cloud.client import AsyncZep\n",
    "from openai import AsyncOpenAI\n",
    "import asyncio\n",
    "from asyncio import Semaphore\n",
    "\n",
    "from dotenv import load_dotenv\n",
    "\n",
    "load_dotenv()\n",
    "\n",
    "zep_api_key = os.getenv(\"ZEP_API_KEY\")\n",
    "openai_api_key = os.getenv(\"OPENAI_API_KEY\")\n",
    "\n",
    "assert zep_api_key is not None, \"ZEP_API_KEY is not set\"\n",
    "assert openai_api_key is not None, \"OPENAI_API_KEY is not set\"\n",
    "\n",
    "zep_client = AsyncZep(api_key=zep_api_key)\n",
    "\n",
    "oai_client = AsyncOpenAI(api_key=openai_api_key)"
   ]
  },
  {
   "cell_type": "code",
   "execution_count": 29,
   "metadata": {},
   "outputs": [
    {
     "name": "stdout",
     "output_type": "stream",
     "text": [
      "22645\n"
     ]
    }
   ],
   "source": [
    "data_path = \"english_chunks\"\n",
    "\n",
    "file_list = glob.glob(f\"{data_path}/*\")\n",
    "\n",
    "file_contents = []\n",
    "\n",
    "for file in file_list:\n",
    "    with open(file, \"r\") as f:\n",
    "        file_contents.append(json.load(f))\n",
    "\n",
    "flattened_file_contents = [item for sublist in file_contents for item in sublist]\n",
    "\n",
    "print(len(flattened_file_contents))"
   ]
  },
  {
   "cell_type": "code",
   "execution_count": 30,
   "metadata": {},
   "outputs": [
    {
     "data": {
      "text/plain": [
       "{'_id': '05333657-245d-49ba-87b7-148f8388da9c',\n",
       " 'text': 'In-PersonFR',\n",
       " 'metadata': {'url': 'https://www.verkada.com/events/seminaire-verkada-et-ingelan-montpellier/',\n",
       "  'language': 'en',\n",
       "  'description': '',\n",
       "  'header': 'Introduction',\n",
       "  'header_level': 0,\n",
       "  'chunk_index': 0,\n",
       "  'total_chunks': 10,\n",
       "  'parent_doc_id': ''}}"
      ]
     },
     "execution_count": 30,
     "metadata": {},
     "output_type": "execute_result"
    }
   ],
   "source": [
    "flattened_file_contents[0]"
   ]
  },
  {
   "cell_type": "code",
   "execution_count": 63,
   "metadata": {},
   "outputs": [
    {
     "name": "stdout",
     "output_type": "stream",
     "text": [
      "Example of restructured data:\n",
      "{\n",
      "  \"chunk\": {\n",
      "    \"header\": \"Introduction\",\n",
      "    \"description\": \"\\\"Don't miss an exclusive webinar hosted by Verkada and Insight, a leading national solutions and systems integrator. Led by a group of experienced industry professionals, you'll gain insight into cutting-edge developments in physical security and their potential advantages for your organization. \\nDiscover why so many companies have switched from on-premise, DVR / NVR-based systems to Verkada's cloud-based approach. From its intuitive yet powerful management interface to its advanced people and vehicle analytics, see firsthand why more than 15,000 organizations trust Verkada to safeguard their people!\\nYour hosts are:\\nAmy Amy (Commercial Inside Sales Director, Insight)\\nTyler  King (Account Executive, Verkada)\\nAll webinar attendees are eligible to receive free Verkada trial products, including a free trial of our alarm monitoring service (where available). Attendees will also be qualified to receive a free Verkada-branded YETI mug.\\nCan't make it? No problem at all \\u2013 register now to receive a recording!\\\"\",\n",
      "    \"text\": \"Live webinarUS\",\n",
      "    \"url\": \"https://www.verkada.com/webinars/insight-june-session/?date=&idx=0\"\n",
      "  }\n",
      "}\n",
      "\n",
      "Total documents restructured: 22645\n"
     ]
    }
   ],
   "source": [
    "restructured_data = []\n",
    "\n",
    "for item in flattened_file_contents:\n",
    "    # Extract metadata fields if they exist\n",
    "    url = item.get(\"metadata\", {}).get(\"url\", \"\")\n",
    "    description = item.get(\"metadata\", {}).get(\"description\", \"\")\n",
    "    header = item.get(\"metadata\", {}).get(\"header\", \"\")\n",
    "\n",
    "    # Create new document structure\n",
    "    new_doc = {\n",
    "        \"chunk\": {\n",
    "            \"header\": header,\n",
    "            \"description\": description,\n",
    "            \"text\": item.get(\"text\", \"\")[\n",
    "                :9000\n",
    "            ],  # IMPORTANT: Zep has a limit of 10000 characters for graph.add\n",
    "            \"url\": url,\n",
    "        }\n",
    "    }\n",
    "\n",
    "    restructured_data.append(new_doc)\n",
    "\n",
    "# Print example to verify structure\n",
    "print(\"Example of restructured data:\")\n",
    "print(json.dumps(restructured_data[100], indent=2))\n",
    "print(f\"\\nTotal documents restructured: {len(restructured_data)}\")"
   ]
  },
  {
   "cell_type": "code",
   "execution_count": 102,
   "metadata": {},
   "outputs": [],
   "source": [
    "import random\n",
    "import string\n",
    "\n",
    "random_string = \"\".join(random.choices(string.ascii_letters + string.digits, k=6))\n",
    "group_id = random_string + \"_11x-rag-example\""
   ]
  },
  {
   "cell_type": "code",
   "execution_count": null,
   "metadata": {},
   "outputs": [],
   "source": [
    "#Uncomment to ingest the data\n",
    "\n",
    "# verkada = (\n",
    "#     \"verkada: Security Systems for the Modern Enterprise\\n\"\n",
    "#     \"Modern, cloud-managed security cameras, access control, and smart building solutions in a single, fully integrated security system.\"\n",
    "# )\n",
    "\n",
    "# await zep_client.graph.add(group_id=group_id, data=verkada, type=\"json\")\n",
    "\n",
    "\n",
    "# async def add_document(sem, doc):\n",
    "#     async with sem:\n",
    "#         await zep_client.graph.add(group_id=group_id, data=json.dumps(doc), type=\"json\")\n",
    "\n",
    "\n",
    "# async def add():\n",
    "#     sem = Semaphore(2)  # Limit concurrency to 2 to avoid rate limiting\n",
    "#     tasks = [add_document(sem, doc) for doc in restructured_data[:2000]]\n",
    "#     await asyncio.gather(*tasks)\n",
    "\n",
    "\n",
    "# await add()"
   ]
  },
  {
   "cell_type": "code",
   "execution_count": 104,
   "metadata": {},
   "outputs": [],
   "source": [
    "# await zep_client.group.delete(group_id=group_id)"
   ]
  },
  {
   "cell_type": "code",
   "execution_count": 267,
   "metadata": {},
   "outputs": [],
   "source": [
    "query = (\n",
    "    \"which producrs are most relevant to an environmental quality specialist?\"\n",
    ")"
   ]
  },
  {
   "cell_type": "code",
   "execution_count": 270,
   "metadata": {},
   "outputs": [
    {
     "name": "stdout",
     "output_type": "stream",
     "text": [
      "Verkada emphasizes the importance of air quality in the workplace, particularly in the context of reducing indoor transmission of COVID-19. Their Environmental Sensors are designed to monitor indoor air quality, which is crucial for ensuring a safe and healthy work environment. These sensors help organizations assess air quality by monitoring Air Quality Index (AQI) and Total Volatile Organic Compounds (TVOCs), allowing for timely interventions such as improving ventilation, using better filters, or deploying air purifiers. By providing real-time environmental insights through customizable dashboards, Verkada enables teams to focus on relevant data for maintaining air quality. This proactive approach supports organizations in adhering to COVID-19 safety policies and promotes a safer return to the office.\n",
      "The article from Verkada emphasizes the critical issue of poor indoor air quality (IAQ) in commercial office buildings, which costs the American economy approximately $168 billion annually. It outlines the importance of effective IAQ management to enhance workplace environments and mitigate economic losses. Key strategies for improving IAQ include monitoring CO2 levels, maintaining HVAC systems, and regular cleaning of common areas. Office managers are crucial in inspecting HVAC components to prevent pollutants and moisture buildup, which can lead to health issues and mold growth. Factors influencing IAQ include temperature, humidity, and pollutants like Nitrogen Dioxide (NO2), with an ideal indoor temperature range of 60°F to 76°F for comfort. Collaboration with contractors during renovations is vital to minimize contaminant release, and educating employees about IAQ policies is essential. The American Society of Heating, Refrigerating, and Air Conditioning Engineers (ASHRAE) provides guidelines for maintaining acceptable IAQ standards, which are crucial for health and productivity, especially since most Americans spend about 90% of their time indoors. Solutions like Verkada's environmental sensors can monitor IAQ by tracking indoor air contaminants and providing real-time insights through an air quality index, along with additional resources such as webinars and free trial sensors to assist organizations in improving their IAQ.\n",
      "Germains Seed Technology has integrated Verkada's SV11 Environmental Sensor into its cold room management to monitor air quality, temperature, and humidity, ensuring optimal conditions for seed storage between 8 - 11°F. This proactive approach allows for immediate alerts on anomalies, protecting seed integrity and meeting legal requirements for sample retention. The integration of video security and access control has enhanced supply chain processes, resulting in a 30% reduction in security management costs and improved environmental monitoring. In addition, Verkada's sensors have detected three security incidents in six months, showcasing their effectiveness. Meanwhile, in Lancaster, air quality sensors play a vital role in public health, especially during wildfire season, by monitoring indoor air quality (IAQ) in schools like Riviera Ridge School. These sensors track pollutants such as PM 2.5 and CO2, issuing real-time alerts when CO2 levels exceed 1,000 ppm, which can affect cognitive function. The integration of these sensors with security systems allows for effective remote monitoring and rapid response to air quality issues. Special pricing for air quality sensor software licenses is available until October 31, 2023, addressing vaping concerns, with future enhancements planned for February 2025 to expand monitoring capabilities. The SV11 Environmental Sensor also supports Green Building Certification by tracking various air quality metrics, ensuring a safe environment for the school community.\n",
      "The City of Lancaster is enhancing public safety and health through the implementation of hybrid cloud security solutions from Verkada, which includes environmental monitoring and air quality sensors. This initiative supports a new policing model that emphasizes rapid response, data-driven crime prevention, and effective incident management. A successful pilot program at a community center has led to plans for expansion into more public spaces and government buildings. A notable feature of this initiative is the Intelligence Crime Analysis Center (ICAC), which utilizes an LED wall for live feeds from Verkada cameras, thereby improving situational awareness. The environmental monitoring system has already demonstrated its effectiveness, as evidenced by a quick law enforcement response to an unauthorized gathering detected by the system. Additionally, Verkada's SV20 series Environmental Sensors are employed to monitor indoor air quality in office settings, addressing airborne contaminants that significantly impact employee health and productivity, costing the U.S. economy around $168 billion annually. The initiative also aims to develop tools for schools to combat student vaping, incorporating audio alerts and enhanced device controls.\n",
      "Germains Seed Technology is undergoing a digital transformation to modernize its security and management systems, which were hampered by outdated technologies and inefficiencies. They have chosen Verkada's integrated platform to improve physical security, access control, environmental monitoring, alarms, and facility management, aiming to enhance supply chain efficiency and compliance while reducing risks associated with false alarms. Similarly, the City of Lancaster utilizes Verkada's hybrid cloud security solutions to bolster public safety and operational efficiency through a new policing model that incorporates environmental monitoring. This model focuses on rapid response and data-driven crime prevention, employing advanced technologies like cameras and environmental sensors. In educational institutions, such as Riviera Ridge, Verkada's air quality sensors play a crucial role in monitoring conditions during wildfire season, ensuring student safety by providing alerts for unsafe air quality levels. Verkada's SV11 Environmental Sensor tracks metrics like Air Quality Index, temperature, and humidity, integrating with security systems for comprehensive health and safety assessments. Other organizations, including Yakima Valley Memorial Hospital and Union Station Homeless Services, are also implementing Verkada's solutions, such as CO2 monitors for detecting hazardous levels.\n",
      "The SV11 Environmental Sensor, utilized by Germains Seed Technology and developed by Verkada, is a vital tool for monitoring environmental conditions in various settings, particularly in cold storage for seed batches. It maintains temperatures between 8 - 11°F to comply with legal requirements for seed sample retention. The sensor tracks eight parameters, including temperature, humidity, air quality, and more, providing real-time data and alerts for any anomalies, which allows for immediate action to protect the cold chain. Additionally, it integrates with video security and access control systems to enhance safety and compliance. Although the SV11 model has been discontinued, updates are expected by February 20, 2025, introducing new metrics like Humidex and Mold Risk Index. A FIPS-validated version is also set to launch on February 13, 2025. Users can access a 30-day free trial to explore the sensor's capabilities and management platform, which includes dashboards and alerts for unusual activities, while ensuring user privacy in data management.\n",
      "The SV11 Environmental Sensor by Verkada is an all-in-one device designed to monitor environmental changes such as temperature and relative humidity across facilities. It integrates seamlessly with Verkada's cloud-based security products, enhancing video security systems by providing real-time insights and alerts for unusual environmental conditions. This sensor is particularly beneficial for organizations and municipalities, enabling them to effectively manage and respond to environmental changes while maintaining optimal settings.\n",
      "At Verkada, the belief is that fostering a sense of belonging among employees leads to greater innovation, happiness, and success. This commitment to belonging is seen as essential for creating better products, as it enhances employee experiences and strengthens relationships with customers. Verkada is dedicated to building an equitable and inclusive workplace that empowers everyone to thrive, which ultimately contributes to the development of superior products.\n",
      "Signify has partnered with Verkada to enhance its global security operations, achieving significant improvements such as a 20% reduction in patrol guards and a 30% decrease in security incidents. This collaboration optimizes resource allocation and lowers personnel costs while maintaining high security standards through AI-driven monitoring and centralized control. Key features of Verkada's solutions, including Motion Grid and AI-Powered Search, have expedited investigations, making them five times faster. Signify also benefits from 24/7 support, resolving about 95% of inquiries within 20 minutes. In Hopewell, Virginia, Verkada's cameras have improved video evidence quality in court, leading to more conclusive legal outcomes and positive feedback from law enforcement, highlighting the importance of clear footage for crime resolution. Additionally, Verkada's Remote Monitoring Solution has enhanced incident response times by over 75%, allowing for proactive threat detection and rapid responses, reducing response times from days to minutes. Furthermore, SimonsVoss SmartIntego locks provide a reliable locking solution with long battery life and easy installation, meeting high-quality standards.\n",
      "Join the webinar \"Using Innovative Technologies for Effective Emergency Management\" on June 1, 2023, designed for professionals in emergency management, security, and facility management. This event will delve into Verkada's Emergency Response platform, focusing on real-time video surveillance that aids decision-making during crises. Key features include the intelligent Lockdown solution, which integrates access control with video surveillance, and the Roll Call solution that automates emergency accountability processes. \n",
      "\n",
      "The session will highlight successful implementations of Verkada cameras at Crystal Mountain Resort, showcasing their effectiveness in reducing thefts and enhancing guest safety through advanced monitoring features like Person of Interest alerts and People Analytics. Additionally, insights from the 2023 Verkada Workplace Safety Survey, which involved 1,000 professionals, will be shared, addressing workplace safety and emotional challenges faced by frontline workers. \n",
      "\n",
      "Industry experts will discuss advancements in physical security and demonstrate Verkada's cloud-based solutions, trusted by over 15,000 organizations. Attendees will receive free trial products and a Verkada-branded YETI mug, with recordings available for those unable to attend live. For registration and more information, visit the webinar page.\n"
     ]
    }
   ],
   "source": [
    "results = await zep_client.graph.search(\n",
    "    group_id=group_id, query=query, scope=\"nodes\", limit=10, reranker=\"cross_encoder\"\n",
    ")\n",
    "\n",
    "for node in results.nodes:\n",
    "    print(node.summary)"
   ]
  },
  {
   "cell_type": "code",
   "execution_count": 271,
   "metadata": {},
   "outputs": [
    {
     "name": "stdout",
     "output_type": "stream",
     "text": [
      "Verkada's six product lines include environmental sensors.\n",
      "Leading experts partner with Verkada to simplify air quality monitoring.\n",
      "Verkada has customers who use their products to manage air quality.\n",
      "Environmental conditions are required to meet wellness and sustainability certifications.\n",
      "The SV11 Environmental Sensor is manufactured by Verkada.\n",
      "The SV11 Environmental Sensor is made by Verkada.\n",
      "Environmental sensors are used to protect properties.\n",
      "Organizations leverage environmental sensors to detect dangerous CO2 levels.\n",
      "The air quality sensors integrate with third-party VMS systems.\n"
     ]
    }
   ],
   "source": [
    "results = await zep_client.graph.search(\n",
    "    group_id=group_id, query=query, scope=\"edges\", limit=10, reranker=\"cross_encoder\"\n",
    ")\n",
    "\n",
    "for edge in results.edges:\n",
    "    print(edge.fact)"
   ]
  },
  {
   "cell_type": "code",
   "execution_count": 280,
   "metadata": {},
   "outputs": [
    {
     "name": "stdout",
     "output_type": "stream",
     "text": [
      "Germains Seed Technology and the City of Lancaster, California, utilize Verkada's integrated platform to enhance security and operational efficiency through advanced environmental monitoring. Germains Seed Technology employs environmental sensors, video surveillance, access control, and alarms, achieving a 30% annual cost savings and improved supply chain processes. This system allows for centralized control, proactive facility monitoring, real-time incident response, and better compliance management, significantly reducing enterprise risk. Similarly, Lancaster uses Verkada's hybrid cloud security solutions, including air quality sensors to monitor indoor contaminants, which enhances public safety and supports a data-driven policing model. Both organizations benefit from the integration of environmental monitoring with security features, leading to improved health and safety management. Additionally, users have the option to opt out of the sale or sharing of personal data collected through cookies and similar technologies, with Verkada providing information on how to do so.\n",
      "The City of Lancaster has adopted a hybrid cloud security system from Verkada, which integrates various security measures including cameras, access control, alarms, and environmental monitoring to enhance public safety and streamline operations. Chief Armalin highlights the system's focus on crime reduction and data-driven strategies to protect residents and public spaces, aiming to centralize security operations and improve incident response times. A key component of this system is the SV11 Environmental Sensor, which monitors environmental changes, particularly carbon dioxide (CO2) levels, crucial for maintaining indoor air quality and preventing health issues like Sick Building Syndrome. Elevated CO2 levels can impair cognitive functions and increase the risk of airborne diseases, prompting various sectors, including schools, to adopt CO2 monitoring systems. California has mandated CO2 monitors in K-12 classrooms to improve ventilation, and schools are integrating air quality sensors with security technologies to enhance safety. Initiatives in other regions, such as Las Vegas and the Mountain View Los Altos Union High School District, also focus on improving safety protocols through cloud-managed access control and air quality monitoring. Verkada is leading this movement by providing certified technology for real-time monitoring and promoting educational initiatives on AI integration in physical security.\n",
      "Germains Seed Technology is undergoing a digital transformation to modernize its security and management systems, which were hampered by outdated technologies and inefficiencies. They have chosen Verkada's integrated platform to improve physical security, access control, environmental monitoring, alarms, and facility management, aiming to enhance supply chain efficiency and compliance while reducing risks associated with false alarms. Similarly, the City of Lancaster utilizes Verkada's hybrid cloud security solutions to bolster public safety and operational efficiency through a new policing model that incorporates environmental monitoring. This model focuses on rapid response and data-driven crime prevention, employing advanced technologies like cameras and environmental sensors. In educational institutions, such as Riviera Ridge, Verkada's air quality sensors play a crucial role in monitoring conditions during wildfire season, ensuring student safety by providing alerts for unsafe air quality levels. Verkada's SV11 Environmental Sensor tracks metrics like Air Quality Index, temperature, and humidity, integrating with security systems for comprehensive health and safety assessments. Other organizations, including Yakima Valley Memorial Hospital and Union Station Homeless Services, are also implementing Verkada's solutions, such as CO2 monitors for detecting hazardous levels.\n",
      "The Verkada DK11 system features a request-to-exit sensor as part of its door access control solution, which includes a maglock and door contact for secure access management. It integrates with the AC41 Door Controller and CM41 Mini Dome Camera, offering comprehensive door control and video capabilities. Users also have access to a cloud-based software management platform for enhanced functionality. Additionally, the importance of sensor data is emphasized in real-time air quality monitoring, allowing users to visualize data and receive alerts for any issues, ensuring comprehensive monitoring and peace of mind.\n",
      "The City of Lancaster is enhancing public safety and health through the implementation of hybrid cloud security solutions from Verkada, which includes environmental monitoring and air quality sensors. This initiative supports a new policing model that emphasizes rapid response, data-driven crime prevention, and effective incident management. A successful pilot program at a community center has led to plans for expansion into more public spaces and government buildings. A notable feature of this initiative is the Intelligence Crime Analysis Center (ICAC), which utilizes an LED wall for live feeds from Verkada cameras, thereby improving situational awareness. The environmental monitoring system has already demonstrated its effectiveness, as evidenced by a quick law enforcement response to an unauthorized gathering detected by the system. Additionally, Verkada's SV20 series Environmental Sensors are employed to monitor indoor air quality in office settings, addressing airborne contaminants that significantly impact employee health and productivity, costing the U.S. economy around $168 billion annually. The initiative also aims to develop tools for schools to combat student vaping, incorporating audio alerts and enhanced device controls.\n",
      "Verkada's hybrid cloud architecture for video surveillance cameras achieves a bandwidth consumption of 20 kbps per camera, which is particularly beneficial for remote deployments using LTE connections and cellular modems. This feature, highlighted by the Director of IT at Edinburg, Texas, is complemented by robust data encryption for enhanced cybersecurity. The AI-enabled CH52-E Multisensor camera, a 20MP device, is designed for low-bandwidth environments, offering four-way video coverage, high image quality, and 2.5x optical zoom. Its installation is straightforward, and it operates effectively at 20-50 Kbps, making it suitable for challenging conditions without traditional networking, utilizing a single Power over Ethernet (PoE) cable and cellular modems. The system is adaptable to various power options, including batteries and solar energy, and has been successfully implemented by the Information Technology Agency (ITA) of Los Angeles to improve public safety. Additionally, Verkada provides a Cloud Based Air Quality Monitoring system with integrated sensors, scalable to meet diverse user needs.\n",
      "Indoor air quality (IAQ) is a critical issue, costing the American economy around $168 billion annually, particularly in commercial office buildings. Poor IAQ is often caused by inadequate ventilation and biological contaminants such as mold, bacteria, viruses, and allergens. Verkada addresses these challenges by offering a comprehensive suite of software and hardware products designed to monitor and enhance environmental quality in office spaces. Their advanced environmental sensors continuously track various indoor air pollutants, including carbon dioxide, volatile organic compounds, temperature, and humidity, providing a real-time air quality index for immediate assessment. Additionally, Verkada's Mold Risk Index helps identify conditions conducive to mold growth by monitoring indoor temperature and humidity. Their security solutions integrate these sensors to ensure tenant safety by detecting harmful activities like vaping and smoking, allowing for prompt management responses. Verkada's systems also utilize machine learning and computer vision to enhance performance, with organizations like the Los Angeles Information Technology Agency benefiting from features such as AI analytics and License Plate Recognition (LPR). To further support organizations in improving health, safety, and environmental quality, Verkada offers webinars, free trial sensors, and live demonstrations of their solutions.\n",
      "PoE Sensors are part of a cloud-based air quality monitoring system designed for ease of use and comprehensive monitoring. They are simple to install and can be online and fully operational in just minutes. Each device is an all-in-one solution, incorporating numerous sensors that simplify deployments. The system is easy to scale, allowing users to deploy a single sensor or multiple sensors in various locations, such as every room. Additionally, PoE Sensors offer remote management capabilities through a modern platform that enables secure access from any device, anywhere. They are cloud-managed via a web-based platform called Command, which allows for efficient sensor management. The system is always evolving, with automatic updates that unlock new features and maintain security.\n",
      "The SV11 Environmental Sensor by Verkada is an all-in-one device designed to monitor environmental changes such as temperature and relative humidity across facilities. It integrates seamlessly with Verkada's cloud-based security products, enhancing video security systems by providing real-time insights and alerts for unusual environmental conditions. This sensor is particularly beneficial for organizations and municipalities, enabling them to effectively manage and respond to environmental changes while maintaining optimal settings.\n",
      "Germains Seed Technology has integrated Verkada's SV11 Environmental Sensor into its cold room management to monitor air quality, temperature, and humidity, ensuring optimal conditions for seed storage between 8 - 11°F. This proactive approach allows for immediate alerts on anomalies, protecting seed integrity and meeting legal requirements for sample retention. The integration of video security and access control has enhanced supply chain processes, resulting in a 30% reduction in security management costs and improved environmental monitoring. In addition, Verkada's sensors have detected three security incidents in six months, showcasing their effectiveness. Meanwhile, in Lancaster, air quality sensors play a vital role in public health, especially during wildfire season, by monitoring indoor air quality (IAQ) in schools like Riviera Ridge School. These sensors track pollutants such as PM 2.5 and CO2, issuing real-time alerts when CO2 levels exceed 1,000 ppm, which can affect cognitive function. The integration of these sensors with security systems allows for effective remote monitoring and rapid response to air quality issues. Special pricing for air quality sensor software licenses is available until October 31, 2023, addressing vaping concerns, with future enhancements planned for February 2025 to expand monitoring capabilities. The SV11 Environmental Sensor also supports Green Building Certification by tracking various air quality metrics, ensuring a safe environment for the school community.\n"
     ]
    }
   ],
   "source": [
    "results = await zep_client.graph.search(\n",
    "    group_id=group_id, query=query, scope=\"nodes\", limit=10, reranker=\"rrf\"\n",
    ")\n",
    "\n",
    "for node in results.nodes:\n",
    "    print(node.summary)"
   ]
  },
  {
   "cell_type": "code",
   "execution_count": 273,
   "metadata": {},
   "outputs": [
    {
     "name": "stdout",
     "output_type": "stream",
     "text": [
      "Organizations leverage environmental sensors to detect dangerous CO2 levels.\n",
      "Organizations leverage environmental sensors to detect dangerous CO2 levels.\n",
      "Verkada's six product lines include environmental sensors.\n",
      "Leading experts partner with Verkada to simplify air quality monitoring.\n",
      "Environmental conditions are required to meet wellness and sustainability certifications.\n",
      "Verkada has customers who use their products to manage air quality.\n",
      "The SV11 Environmental Sensor is manufactured by Verkada.\n",
      "The air quality sensors integrate with third-party VMS systems.\n",
      "The SV11 Environmental Sensor is made by Verkada.\n",
      "Environmental sensors are used to protect properties.\n"
     ]
    }
   ],
   "source": [
    "results = await zep_client.graph.search(\n",
    "    group_id=group_id, query=query, scope=\"edges\", limit=10, reranker=\"rrf\"\n",
    ")\n",
    "\n",
    "for edge in results.edges:\n",
    "    print(edge.fact)"
   ]
  },
  {
   "cell_type": "code",
   "execution_count": 285,
   "metadata": {},
   "outputs": [
    {
     "name": "stdout",
     "output_type": "stream",
     "text": [
      "Product Category:\n",
      "Environmental monitoring equipment\n",
      "------------------------------\n",
      "Centroid Node Summary:\n",
      "Verkada offers two advanced environmental monitoring solutions: the SV11 Environmental Sensor and Air Quality Sensors. The SV11 is specifically designed for server room monitoring, integrating with Verkada's cloud-based security products to effectively track environmental changes and protect critical equipment from potential failures. Resources, including a dedicated blog post, provide best practices for maintaining optimal server conditions. On the other hand, Verkada's Air Quality Sensors focus on indoor air quality (IAQ), providing real-time data and user-friendly features. Users can start with a 30-day free trial, utilizing cloud technology and easy installation via Power over Ethernet (PoE). The sensors are scalable, equipped with multiple sensors for comprehensive monitoring, and support remote management through a secure web interface. They also offer insights into humidity levels and alerts for health risks associated with poor air quality, such as toxic mold growth. Both solutions emphasize the importance of environmental monitoring for safety and operational efficiency.\n",
      "------------------------------\n",
      "Verkada offers two advanced environmental monitoring solutions: the SV11 Environmental Sensor and Air Quality Sensors. The SV11 is specifically designed for server room monitoring, integrating with Verkada's cloud-based security products to effectively track environmental changes and protect critical equipment from potential failures. Resources, including a dedicated blog post, provide best practices for maintaining optimal server conditions. On the other hand, Verkada's Air Quality Sensors focus on indoor air quality (IAQ), providing real-time data and user-friendly features. Users can start with a 30-day free trial, utilizing cloud technology and easy installation via Power over Ethernet (PoE). The sensors are scalable, equipped with multiple sensors for comprehensive monitoring, and support remote management through a secure web interface. They also offer insights into humidity levels and alerts for health risks associated with poor air quality, such as toxic mold growth. Both solutions emphasize the importance of environmental monitoring for safety and operational efficiency.\n",
      "The SV11 Environmental Sensor, utilized by Germains Seed Technology and developed by Verkada, is a vital tool for monitoring environmental conditions in various settings, particularly in cold storage for seed batches. It maintains temperatures between 8 - 11°F to comply with legal requirements for seed sample retention. The sensor tracks eight parameters, including temperature, humidity, air quality, and more, providing real-time data and alerts for any anomalies, which allows for immediate action to protect the cold chain. Additionally, it integrates with video security and access control systems to enhance safety and compliance. Although the SV11 model has been discontinued, updates are expected by February 20, 2025, introducing new metrics like Humidex and Mold Risk Index. A FIPS-validated version is also set to launch on February 13, 2025. Users can access a 30-day free trial to explore the sensor's capabilities and management platform, which includes dashboards and alerts for unusual activities, while ensuring user privacy in data management.\n",
      "Verkada offers indoor air quality monitoring solutions that utilize sensors to continuously track various indoor air contaminants, including volatile organic compounds (VOCs), carbon dioxide, temperature, and humidity. These sensors provide a real-time air quality index, helping organizations enhance health, safety, and environmental quality in office spaces. VOCs, emitted from office products and building materials like paints and cleaning supplies, can lead to health issues such as eye and respiratory irritation, headaches, and nausea, with some being carcinogenic at high levels. The Occupational Safety and Health Administration (OSHA) has established a permissible exposure level for VOCs at 0.75 ppm, with an action level of 0.5 ppm. Poor indoor air quality, significantly affected by VOCs and other pollutants like carbon monoxide (CO) and nitrogen dioxide (NO2), poses a major concern in commercial buildings, costing the U.S. economy approximately $168 billion annually. Given that most Americans spend about 90% of their time indoors, maintaining good indoor air quality is crucial for health and productivity. Elevated CO2 levels can impair cognitive function, particularly when exceeding 700-800 ppm, and inadequate ventilation exacerbates these issues, especially in schools. To address these challenges, organizations are increasingly implementing air quality monitoring systems.\n",
      "Germains Seed Technology is undergoing a digital transformation to modernize its security and management systems, which were hampered by outdated technologies and inefficiencies. They have chosen Verkada's integrated platform to improve physical security, access control, environmental monitoring, alarms, and facility management, aiming to enhance supply chain efficiency and compliance while reducing risks associated with false alarms. Similarly, the City of Lancaster utilizes Verkada's hybrid cloud security solutions to bolster public safety and operational efficiency through a new policing model that incorporates environmental monitoring. This model focuses on rapid response and data-driven crime prevention, employing advanced technologies like cameras and environmental sensors. In educational institutions, such as Riviera Ridge, Verkada's air quality sensors play a crucial role in monitoring conditions during wildfire season, ensuring student safety by providing alerts for unsafe air quality levels. Verkada's SV11 Environmental Sensor tracks metrics like Air Quality Index, temperature, and humidity, integrating with security systems for comprehensive health and safety assessments. Other organizations, including Yakima Valley Memorial Hospital and Union Station Homeless Services, are also implementing Verkada's solutions, such as CO2 monitors for detecting hazardous levels.\n",
      "Germains Seed Technology has integrated Verkada's SV11 Environmental Sensor into its cold room management to monitor air quality, temperature, and humidity, ensuring optimal conditions for seed storage between 8 - 11°F. This proactive approach allows for immediate alerts on anomalies, protecting seed integrity and meeting legal requirements for sample retention. The integration of video security and access control has enhanced supply chain processes, resulting in a 30% reduction in security management costs and improved environmental monitoring. In addition, Verkada's sensors have detected three security incidents in six months, showcasing their effectiveness. Meanwhile, in Lancaster, air quality sensors play a vital role in public health, especially during wildfire season, by monitoring indoor air quality (IAQ) in schools like Riviera Ridge School. These sensors track pollutants such as PM 2.5 and CO2, issuing real-time alerts when CO2 levels exceed 1,000 ppm, which can affect cognitive function. The integration of these sensors with security systems allows for effective remote monitoring and rapid response to air quality issues. Special pricing for air quality sensor software licenses is available until October 31, 2023, addressing vaping concerns, with future enhancements planned for February 2025 to expand monitoring capabilities. The SV11 Environmental Sensor also supports Green Building Certification by tracking various air quality metrics, ensuring a safe environment for the school community.\n",
      "The SV11 Environmental Sensor by Verkada is an all-in-one device designed to monitor environmental changes such as temperature and relative humidity across facilities. It integrates seamlessly with Verkada's cloud-based security products, enhancing video security systems by providing real-time insights and alerts for unusual environmental conditions. This sensor is particularly beneficial for organizations and municipalities, enabling them to effectively manage and respond to environmental changes while maintaining optimal settings.\n",
      "Germains Seed Technology and the City of Lancaster, California, utilize Verkada's integrated platform to enhance security and operational efficiency through advanced environmental monitoring. Germains Seed Technology employs environmental sensors, video surveillance, access control, and alarms, achieving a 30% annual cost savings and improved supply chain processes. This system allows for centralized control, proactive facility monitoring, real-time incident response, and better compliance management, significantly reducing enterprise risk. Similarly, Lancaster uses Verkada's hybrid cloud security solutions, including air quality sensors to monitor indoor contaminants, which enhances public safety and supports a data-driven policing model. Both organizations benefit from the integration of environmental monitoring with security features, leading to improved health and safety management. Additionally, users have the option to opt out of the sale or sharing of personal data collected through cookies and similar technologies, with Verkada providing information on how to do so.\n",
      "The City of Lancaster has adopted a hybrid cloud security system from Verkada, which integrates various security measures including cameras, access control, alarms, and environmental monitoring to enhance public safety and streamline operations. Chief Armalin highlights the system's focus on crime reduction and data-driven strategies to protect residents and public spaces, aiming to centralize security operations and improve incident response times. A key component of this system is the SV11 Environmental Sensor, which monitors environmental changes, particularly carbon dioxide (CO2) levels, crucial for maintaining indoor air quality and preventing health issues like Sick Building Syndrome. Elevated CO2 levels can impair cognitive functions and increase the risk of airborne diseases, prompting various sectors, including schools, to adopt CO2 monitoring systems. California has mandated CO2 monitors in K-12 classrooms to improve ventilation, and schools are integrating air quality sensors with security technologies to enhance safety. Initiatives in other regions, such as Las Vegas and the Mountain View Los Altos Union High School District, also focus on improving safety protocols through cloud-managed access control and air quality monitoring. Verkada is leading this movement by providing certified technology for real-time monitoring and promoting educational initiatives on AI integration in physical security.\n",
      "HealthPRO Heritage has enhanced its quality control processes by utilizing Verkada's integrated technology suite, which includes Air Quality Sensors that monitor environmental conditions crucial for maintaining medical supplies. This system alerts staff to any concerning changes in temperature or humidity, ensuring the safety of both staff and patients, especially in warmer climates. Additionally, Verkada's SV11 Environmental Sensor is designed to improve worker safety and quality control across various facilities by monitoring environmental changes and integrating with video security systems. Verkada's commitment to safety extends to educational institutions through its partnership with Safe and Sound Schools, and the company is expanding its presence in the JAPAC region under the leadership of Boudewijn Pesch, who is focused on channel strategy and partnerships to drive growth.\n",
      "Verkada's SV11 Environmental Sensor is designed to monitor environmental changes in various facilities, particularly in food manufacturing, where it integrates with the company's cloud-based security products to enhance safety and quality control. A case study demonstrates its effectiveness in protecting food production processes. Additionally, Verkada addresses the issue of indoor air quality (IAQ) by offering solutions that monitor air pollutants and dangerous noise levels, which are crucial for maintaining a healthy indoor environment. For further details, resources on both the SV11 sensor and air quality monitoring solutions are available on Verkada's website.\n"
     ]
    }
   ],
   "source": [
    "centroid_prompt = \"\"\"Identify the type of product that the query is referring to. Return just the product category.\"\"\"\n",
    "\n",
    "centroid_prompt_response = await oai_client.chat.completions.create(\n",
    "    model=\"gpt-4o-mini\",\n",
    "    messages=[\n",
    "        {\"role\": \"system\", \"content\": \"Identify the type of product that the query is referring to. Return just the product category.\"},\n",
    "        {\"role\": \"user\", \"content\": query}\n",
    "    ],\n",
    ")\n",
    "\n",
    "product_category = centroid_prompt_response.choices[0].message.content\n",
    "\n",
    "results = await zep_client.graph.search(\n",
    "    group_id=group_id, query=product_category, scope=\"nodes\", limit=1, reranker=\"rrf\"\n",
    ")\n",
    "\n",
    "print(\"Product Category:\")\n",
    "print(product_category) \n",
    "print(\"-\" * 30)\n",
    "\n",
    "results = await zep_client.graph.search(\n",
    "    group_id=group_id, query=product_category, scope=\"nodes\", limit=1, reranker=\"rrf\"\n",
    ")\n",
    "\n",
    "centroid_node_uuid = results.nodes[0].uuid_\n",
    "\n",
    "print(\"Centroid Node Summary:\")\n",
    "print(results.nodes[0].summary)\n",
    "print(\"-\" * 30)\n",
    "\n",
    "result_from_centroid = await zep_client.graph.search(\n",
    "    group_id=group_id,\n",
    "    query=query,\n",
    "    scope=\"nodes\",\n",
    "    limit=10,\n",
    "    reranker=\"node_distance\",\n",
    "    center_node_uuid=centroid_node_uuid,\n",
    ")\n",
    "\n",
    "\n",
    "for node in result_from_centroid.nodes:\n",
    "    print(node.summary)"
   ]
  },
  {
   "cell_type": "code",
   "execution_count": 286,
   "metadata": {},
   "outputs": [
    {
     "name": "stdout",
     "output_type": "stream",
     "text": [
      "The SV11 Environmental Sensor is manufactured by Verkada.\n",
      "The SV11 Environmental Sensor is made by Verkada.\n",
      "The SV11 Environmental Sensor has a customer story related to Worker Safety & Quality Control.\n",
      "The SV11 Environmental Sensor is used by Carolina Ingredients for protecting food manufacturing.\n",
      "Organizations leverage environmental sensors to detect dangerous CO2 levels.\n",
      "Environmental sensors are used to protect properties.\n",
      "Organizations leverage environmental sensors to keep indoor spaces safe.\n",
      "Environmental sensors help keep indoor spaces safe.\n",
      "Environmental sensors help keep indoor spaces safe by detecting dangerous CO2 levels.\n",
      "Organizations leverage environmental sensors to detect dangerous CO2 levels.\n"
     ]
    }
   ],
   "source": [
    "result_from_centroid = await zep_client.graph.search(\n",
    "    group_id=group_id,\n",
    "    query=query,\n",
    "    scope=\"edges\",\n",
    "    limit=10,\n",
    "    reranker=\"node_distance\",\n",
    "    center_node_uuid=centroid_node_uuid,\n",
    ")\n",
    "\n",
    "\n",
    "for edge in result_from_centroid.edges:\n",
    "    print(edge.fact)"
   ]
  },
  {
   "cell_type": "code",
   "execution_count": 276,
   "metadata": {},
   "outputs": [
    {
     "name": "stdout",
     "output_type": "stream",
     "text": [
      "At Verkada, the belief is that fostering a sense of belonging among employees leads to greater innovation, happiness, and success. This commitment to belonging is seen as essential for creating better products, as it enhances employee experiences and strengthens relationships with customers. Verkada is dedicated to building an equitable and inclusive workplace that empowers everyone to thrive, which ultimately contributes to the development of superior products.\n",
      "Verkada emphasizes the importance of air quality in the workplace, particularly in the context of reducing indoor transmission of COVID-19. Their Environmental Sensors are designed to monitor indoor air quality, which is crucial for ensuring a safe and healthy work environment. These sensors help organizations assess air quality by monitoring Air Quality Index (AQI) and Total Volatile Organic Compounds (TVOCs), allowing for timely interventions such as improving ventilation, using better filters, or deploying air purifiers. By providing real-time environmental insights through customizable dashboards, Verkada enables teams to focus on relevant data for maintaining air quality. This proactive approach supports organizations in adhering to COVID-19 safety policies and promotes a safer return to the office.\n",
      "Green Building Certification involves monitoring environmental conditions to comply with leading wellness and sustainability certifications. This certification provides peace of mind through connected and comprehensive air quality monitoring, ensuring that the standards for wellness and sustainability are met.\n",
      "Verkada's leading mobile application for managing air quality offers comprehensive monitoring and peace of mind. Users can easily set up devices, configure alerts, and view data with just a tap. The app has received high ratings, with a score of 4.7 on the Google Play Store and 4.8 on the Apple App Store. For more information, visit [Verkada's air quality page](https://www.verkada.com/air-quality/).\n",
      "Verkada offers a comprehensive solution for indoor air quality monitoring, addressing the significant economic impact of poor indoor air quality, which costs the American economy an estimated $168 billion annually. Their environmental sensors continuously monitor various indoor air contaminants, including carbon dioxide, volatile organic compounds, temperature, and humidity, providing real-time data through an air quality index. For those interested in improving health, safety, and environmental quality in their organizations, Verkada invites inquiries for a live demo via email at sales@verkada.com, as well as participation in webinars and requests for free trial sensors.\n",
      "The emergence of a proactive security mindset is influencing the way companies, including those offering niche products, approach cybersecurity. Traditionally, end users of cloud-based solutions had to rely on third-party support or self-research for issue resolution, but this is changing. Major players like Amazon and Google, along with industry leaders and smaller providers, are now focusing on enhancing security support for businesses. Kalev Leetaru, a data security expert, notes that cloud vendors are encouraging businesses to rethink their data management strategies in light of cybersecurity threats. This shift promotes a 'trust nothing' model, moving away from outdated security practices that relied on extensive monitoring while blindly trusting internal access. This proactive approach is essential for all providers, including those offering niche products, as it reflects the current realities of cybersecurity risks.\n",
      "The recent enhancements in air quality sensors include the introduction of a Heat Index reading, which combines temperature and humidity data to provide a more comprehensive understanding of heat conditions. This is particularly relevant for the transportation industry, as it can help predict and mitigate risks associated with extreme weather conditions. Additionally, two new sensor readings have been introduced: the Humidex, which indicates how hot it feels to the average person and is commonly used in Canada, and the Dew Point, which is crucial for predicting conditions like frost or fog that can impact transportation operations. These advancements aim to better serve the needs of various industries, including transportation, by providing more accurate environmental data.\n",
      "The Laser Scattering Optical Sensor is a key component of the SV11 Environmental Sensor by Verkada, which is designed for monitoring environmental changes. This sensor specifically measures PM 2.5 levels, with a range of 0 to 1000 µg/m3. It has a typical accuracy of ±10 µg/m3 for measurements between 0 and 100 µg/m3, and ±10% accuracy for measurements between 100 and 1000 µg/m3. The sensor is part of a comprehensive environmental monitoring solution that integrates with Verkada's cloud-based security products, providing valuable insights into air quality and environmental conditions.\n",
      "Yakima Valley Memorial Hospital faced significant challenges with their previous security camera systems, which relied on outdated DVR technology. The hospital's security staff, led by Bob, sought a solution that would eliminate the need for internal infrastructure like DVRs and servers, while also improving image quality for better incident investigations. The existing systems produced poor-quality images that were often unusable, making it difficult to identify individuals or vehicles. Additionally, the storage limitations of the DVRs led to constant overwriting of footage, hindering the ability to retrieve and share important video evidence when needed.\n",
      "\n",
      "To address these issues, Bob recognized the need for a hybrid cloud camera system that would not only enhance image quality but also support advanced AI features. He prioritized a system with a quick cycle of product development and innovation, ensuring that the technology would remain up-to-date and effective in meeting the hospital's security needs. The focus on product development was crucial, as it would allow the hospital to adapt to evolving security challenges and maintain high standards of safety and surveillance.\n",
      "Oscar Popravka, a Senior Product Specialist, authored two articles discussing advancements in security technology. The first article, \"See What You Missed With Sentry Mode,\" published on September 29, 2023, explains how users can configure notifications for security features like cameras and alarms through the Alerts page in Command. The second article, \"Verkada’s APIs & Integrations: Facilitating Interoperability with Third-Party Systems,\" published on February 13, 2025, highlights Verkada's developments in cloud-managed physical security, focusing on their APIs that improve integration with third-party systems.\n"
     ]
    }
   ],
   "source": [
    "results = await zep_client.graph.search(\n",
    "    group_id=group_id,\n",
    "    query=query,\n",
    "    scope=\"nodes\",\n",
    "    limit=10,\n",
    "    reranker=\"episode_mentions\",\n",
    ")\n",
    "\n",
    "\n",
    "for node in results.nodes:\n",
    "    print(node.summary)"
   ]
  },
  {
   "cell_type": "code",
   "execution_count": 277,
   "metadata": {},
   "outputs": [
    {
     "name": "stdout",
     "output_type": "stream",
     "text": [
      "Organizations leverage environmental sensors to detect dangerous CO2 levels.\n",
      "Organizations leverage environmental sensors to detect dangerous CO2 levels.\n",
      "Verkada's six product lines include environmental sensors.\n",
      "Leading experts partner with Verkada to simplify air quality monitoring.\n",
      "Environmental conditions are required to meet wellness and sustainability certifications.\n",
      "Verkada has customers who use their products to manage air quality.\n",
      "The SV11 Environmental Sensor is manufactured by Verkada.\n",
      "The air quality sensors integrate with third-party VMS systems.\n",
      "The SV11 Environmental Sensor is made by Verkada.\n",
      "Environmental sensors are used to protect properties.\n"
     ]
    }
   ],
   "source": [
    "results = await zep_client.graph.search(\n",
    "    group_id=group_id,\n",
    "    query=query,\n",
    "    scope=\"edges\",\n",
    "    limit=10,\n",
    "    reranker=\"episode_mentions\",\n",
    ")\n",
    "\n",
    "\n",
    "for edge in results.edges:\n",
    "    print(edge.fact)"
   ]
  },
  {
   "cell_type": "code",
   "execution_count": null,
   "metadata": {},
   "outputs": [],
   "source": []
  }
 ],
 "metadata": {
  "kernelspec": {
   "display_name": ".venv",
   "language": "python",
   "name": "python3"
  },
  "language_info": {
   "codemirror_mode": {
    "name": "ipython",
    "version": 3
   },
   "file_extension": ".py",
   "mimetype": "text/x-python",
   "name": "python",
   "nbconvert_exporter": "python",
   "pygments_lexer": "ipython3",
   "version": "3.10.15"
  }
 },
 "nbformat": 4,
 "nbformat_minor": 2
}
